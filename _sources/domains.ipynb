{
 "cells": [
  {
   "cell_type": "markdown",
   "id": "1f8839dd",
   "metadata": {},
   "source": [
    "# Domains\n",
    "\n",
    "Jupyter Book also lets you write text-based notebooks using MyST Markdown.\n",
    "See [the Notebooks with MyST Markdown documentation](https://jupyterbook.org/file-types/myst-notebooks.html) for more detailed instructions.\n",
    "This page shows off a notebook written in MyST Markdown.\n",
    "\n",
    "## An example cell\n",
    "\n",
    "With MyST Markdown, you can define code cells with a directive like so:"
   ]
  },
  {
   "cell_type": "code",
   "execution_count": 1,
   "id": "23b2c4ae",
   "metadata": {},
   "outputs": [
    {
     "name": "stdout",
     "output_type": "stream",
     "text": [
      "4\n"
     ]
    }
   ],
   "source": [
    "print(2 + 2)"
   ]
  },
  {
   "cell_type": "code",
   "execution_count": 2,
   "id": "691ff8c5",
   "metadata": {},
   "outputs": [
    {
     "data": {
      "text/html": [
       "<div>\n",
       "<style scoped>\n",
       "    .dataframe tbody tr th:only-of-type {\n",
       "        vertical-align: middle;\n",
       "    }\n",
       "\n",
       "    .dataframe tbody tr th {\n",
       "        vertical-align: top;\n",
       "    }\n",
       "\n",
       "    .dataframe thead th {\n",
       "        text-align: right;\n",
       "    }\n",
       "</style>\n",
       "<table border=\"1\" class=\"dataframe\">\n",
       "  <thead>\n",
       "    <tr style=\"text-align: right;\">\n",
       "      <th></th>\n",
       "      <th>region</th>\n",
       "      <th>domain</th>\n",
       "      <th>tlc_lon</th>\n",
       "      <th>tlc_lat</th>\n",
       "      <th>cnb_lon</th>\n",
       "      <th>cnb_lat</th>\n",
       "      <th>trc_lon</th>\n",
       "      <th>trc_lat</th>\n",
       "      <th>cwb_lon</th>\n",
       "      <th>cwb_lat</th>\n",
       "      <th>cpd_lon</th>\n",
       "      <th>cpd_lat</th>\n",
       "      <th>ceb_lon</th>\n",
       "      <th>ceb_lat</th>\n",
       "      <th>blc_lon</th>\n",
       "      <th>blc_lat</th>\n",
       "      <th>csb_lon</th>\n",
       "      <th>csb_lat</th>\n",
       "      <th>brc_lon</th>\n",
       "      <th>brc_lat</th>\n",
       "    </tr>\n",
       "    <tr>\n",
       "      <th>domain_id</th>\n",
       "      <th></th>\n",
       "      <th></th>\n",
       "      <th></th>\n",
       "      <th></th>\n",
       "      <th></th>\n",
       "      <th></th>\n",
       "      <th></th>\n",
       "      <th></th>\n",
       "      <th></th>\n",
       "      <th></th>\n",
       "      <th></th>\n",
       "      <th></th>\n",
       "      <th></th>\n",
       "      <th></th>\n",
       "      <th></th>\n",
       "      <th></th>\n",
       "      <th></th>\n",
       "      <th></th>\n",
       "      <th></th>\n",
       "      <th></th>\n",
       "    </tr>\n",
       "  </thead>\n",
       "  <tbody>\n",
       "    <tr>\n",
       "      <th>EUR</th>\n",
       "      <td>1</td>\n",
       "      <td>Europe</td>\n",
       "      <td>315.86</td>\n",
       "      <td>60.21</td>\n",
       "      <td>1.92</td>\n",
       "      <td>71.84</td>\n",
       "      <td>64.4</td>\n",
       "      <td>66.65</td>\n",
       "      <td>338.23</td>\n",
       "      <td>42.36</td>\n",
       "      <td>9.75</td>\n",
       "      <td>49.68</td>\n",
       "      <td>44.77</td>\n",
       "      <td>46.72</td>\n",
       "      <td>350.01</td>\n",
       "      <td>22.2</td>\n",
       "      <td>12.48</td>\n",
       "      <td>27.34</td>\n",
       "      <td>36.3</td>\n",
       "      <td>25.36</td>\n",
       "    </tr>\n",
       "  </tbody>\n",
       "</table>\n",
       "</div>"
      ],
      "text/plain": [
       "           region  domain  tlc_lon  tlc_lat  cnb_lon  cnb_lat  trc_lon  \\\n",
       "domain_id                                                                \n",
       "EUR             1  Europe   315.86    60.21     1.92    71.84     64.4   \n",
       "\n",
       "           trc_lat  cwb_lon  cwb_lat  cpd_lon  cpd_lat  ceb_lon  ceb_lat  \\\n",
       "domain_id                                                                  \n",
       "EUR          66.65   338.23    42.36     9.75    49.68    44.77    46.72   \n",
       "\n",
       "           blc_lon  blc_lat  csb_lon  csb_lat  brc_lon  brc_lat  \n",
       "domain_id                                                        \n",
       "EUR         350.01     22.2    12.48    27.34     36.3    25.36  "
      ]
     },
     "execution_count": 2,
     "metadata": {},
     "output_type": "execute_result"
    }
   ],
   "source": [
    "import pandas as pd\n",
    "df = pd.read_csv(\"https://raw.githubusercontent.com/WCRP-CORDEX/domain-tables/main/boundaries.csv\", index_col=\"domain_id\")\n",
    "df"
   ]
  },
  {
   "cell_type": "markdown",
   "id": "73e56d76",
   "metadata": {},
   "source": [
    "When your book is built, the contents of any `{code-cell}` blocks will be\n",
    "executed with your default Jupyter kernel, and their outputs will be displayed\n",
    "in-line with the rest of your content.\n",
    "\n",
    "```{seealso}\n",
    "Jupyter Book uses [Jupytext](https://jupytext.readthedocs.io/en/latest/) to convert text-based files to notebooks, and can support [many other text-based notebook files](https://jupyterbook.org/file-types/jupytext.html).\n",
    "```\n",
    "\n",
    "## Create a notebook with MyST Markdown\n",
    "\n",
    "MyST Markdown notebooks are defined by two things:\n",
    "\n",
    "1. YAML metadata that is needed to understand if / how it should convert text files to notebooks (including information about the kernel needed).\n",
    "   See the YAML at the top of this page for example.\n",
    "2. The presence of `{code-cell}` directives, which will be executed with your book.\n",
    "\n",
    "That's all that is needed to get started!\n",
    "\n",
    "## Quickly add YAML metadata for MyST Notebooks\n",
    "\n",
    "If you have a markdown file and you'd like to quickly add YAML metadata to it, so that Jupyter Book will treat it as a MyST Markdown Notebook, run the following command:\n",
    "\n",
    "```\n",
    "jupyter-book myst init path/to/markdownfile.md\n",
    "```"
   ]
  }
 ],
 "metadata": {
  "jupytext": {
   "cell_metadata_filter": "-all",
   "formats": "md:myst",
   "text_representation": {
    "extension": ".md",
    "format_name": "myst",
    "format_version": 0.13,
    "jupytext_version": "1.11.5"
   }
  },
  "kernelspec": {
   "display_name": "Python 3",
   "language": "python",
   "name": "python3"
  },
  "language_info": {
   "codemirror_mode": {
    "name": "ipython",
    "version": 3
   },
   "file_extension": ".py",
   "mimetype": "text/x-python",
   "name": "python",
   "nbconvert_exporter": "python",
   "pygments_lexer": "ipython3",
   "version": "3.8.16"
  },
  "source_map": [
   14,
   26,
   30,
   34
  ]
 },
 "nbformat": 4,
 "nbformat_minor": 5
}